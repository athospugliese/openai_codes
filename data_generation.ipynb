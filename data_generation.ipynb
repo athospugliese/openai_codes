{
  "cells": [
    {
      "cell_type": "code",
      "execution_count": 30,
      "id": "a0377478",
      "metadata": {
        "id": "a0377478",
        "outputId": "cd9d91a3-a0f8-45d2-b7f3-39d9226cbb9d",
        "colab": {
          "base_uri": "https://localhost:8080/"
        }
      },
      "outputs": [
        {
          "output_type": "stream",
          "name": "stdout",
          "text": [
            "Requirement already satisfied: openai in /usr/local/lib/python3.10/dist-packages (1.17.0)\n",
            "Requirement already satisfied: anyio<5,>=3.5.0 in /usr/local/lib/python3.10/dist-packages (from openai) (3.7.1)\n",
            "Requirement already satisfied: distro<2,>=1.7.0 in /usr/lib/python3/dist-packages (from openai) (1.7.0)\n",
            "Requirement already satisfied: httpx<1,>=0.23.0 in /usr/local/lib/python3.10/dist-packages (from openai) (0.27.0)\n",
            "Requirement already satisfied: pydantic<3,>=1.9.0 in /usr/local/lib/python3.10/dist-packages (from openai) (2.6.4)\n",
            "Requirement already satisfied: sniffio in /usr/local/lib/python3.10/dist-packages (from openai) (1.3.1)\n",
            "Requirement already satisfied: tqdm>4 in /usr/local/lib/python3.10/dist-packages (from openai) (4.66.2)\n",
            "Requirement already satisfied: typing-extensions<5,>=4.7 in /usr/local/lib/python3.10/dist-packages (from openai) (4.10.0)\n",
            "Requirement already satisfied: idna>=2.8 in /usr/local/lib/python3.10/dist-packages (from anyio<5,>=3.5.0->openai) (3.6)\n",
            "Requirement already satisfied: exceptiongroup in /usr/local/lib/python3.10/dist-packages (from anyio<5,>=3.5.0->openai) (1.2.0)\n",
            "Requirement already satisfied: certifi in /usr/local/lib/python3.10/dist-packages (from httpx<1,>=0.23.0->openai) (2024.2.2)\n",
            "Requirement already satisfied: httpcore==1.* in /usr/local/lib/python3.10/dist-packages (from httpx<1,>=0.23.0->openai) (1.0.5)\n",
            "Requirement already satisfied: h11<0.15,>=0.13 in /usr/local/lib/python3.10/dist-packages (from httpcore==1.*->httpx<1,>=0.23.0->openai) (0.14.0)\n",
            "Requirement already satisfied: annotated-types>=0.4.0 in /usr/local/lib/python3.10/dist-packages (from pydantic<3,>=1.9.0->openai) (0.6.0)\n",
            "Requirement already satisfied: pydantic-core==2.16.3 in /usr/local/lib/python3.10/dist-packages (from pydantic<3,>=1.9.0->openai) (2.16.3)\n"
          ]
        }
      ],
      "source": [
        "%pip install --upgrade --quiet  langchain langchain_experimental langchain-openai\n",
        "!pip install openai\n",
        "# Set env var OPENAI_API_KEY or load from a .env file:\n",
        "\n",
        "import os\n",
        "os.environ[\"OPENAI_API_KEY\"] = \"\"\n",
        "\n",
        "from langchain.prompts import FewShotPromptTemplate, PromptTemplate\n",
        "from langchain_core.pydantic_v1 import BaseModel\n",
        "from langchain_experimental.tabular_synthetic_data.openai import (\n",
        "    OPENAI_TEMPLATE,\n",
        "    create_openai_data_generator,\n",
        ")\n",
        "from langchain_experimental.tabular_synthetic_data.prompts import (\n",
        "    SYNTHETIC_FEW_SHOT_PREFIX,\n",
        "    SYNTHETIC_FEW_SHOT_SUFFIX,\n",
        ")\n",
        "from langchain_openai import ChatOpenAI"
      ]
    },
    {
      "cell_type": "code",
      "execution_count": 31,
      "id": "291bad6e",
      "metadata": {
        "id": "291bad6e"
      },
      "outputs": [],
      "source": [
        "class FirstApartmentPurchase(BaseModel):\n",
        "    age: int\n",
        "    monthly_income: float\n",
        "    apartment_interest_rate: float\n",
        "    down_payment: float\n",
        "    apartment_price: float\n",
        "    loan_term_years: int\n",
        "    monthly_expenses: float\n",
        "    credit_score: int\n",
        "    employment_status: str"
      ]
    },
    {
      "cell_type": "code",
      "execution_count": 32,
      "id": "b989b792",
      "metadata": {
        "id": "b989b792"
      },
      "outputs": [],
      "source": [
        "examples = [\n",
        "    {\n",
        "        \"example\": \"\"\"Age: 30, Monthly Income: $4000, Apartment Interest Rate: 4.5%,\n",
        "        Down Payment: $25000, Apartment Price: $200000, Loan Term (Years): 25,\n",
        "        Monthly Expenses: $1500, Credit Score: 700, Employment Status: Employed\"\"\"\n",
        "    },\n",
        "    {\n",
        "        \"example\": \"\"\"Age: 25, Monthly Income: $3000, Apartment Interest Rate: 3.8%,\n",
        "        Down Payment: $20000, Apartment Price: $180000, Loan Term (Years): 20,\n",
        "        Monthly Expenses: $1200, Credit Score: 650, Employment Status: Self-Employed\"\"\"\n",
        "    },\n",
        "    {\n",
        "        \"example\": \"\"\"Age: 28, Monthly Income: $4500, Apartment Interest Rate: 4.0%,\n",
        "        Down Payment: $30000, Apartment Price: $250000, Loan Term (Years): 30,\n",
        "        Monthly Expenses: $1800, Credit Score: 720, Employment Status: Employed\"\"\"\n",
        "    },\n",
        "]\n"
      ]
    },
    {
      "cell_type": "code",
      "execution_count": 33,
      "id": "ea6e042e",
      "metadata": {
        "id": "ea6e042e"
      },
      "outputs": [],
      "source": [
        "OPENAI_TEMPLATE = PromptTemplate(input_variables=[\"example\"], template=\"{example}\")\n",
        "\n",
        "prompt_template = FewShotPromptTemplate(\n",
        "    prefix=SYNTHETIC_FEW_SHOT_PREFIX,\n",
        "    examples=examples,\n",
        "    suffix=SYNTHETIC_FEW_SHOT_SUFFIX,\n",
        "    input_variables=[\"subject\", \"extra\"],\n",
        "    example_prompt=OPENAI_TEMPLATE,\n",
        ")"
      ]
    },
    {
      "cell_type": "code",
      "execution_count": 35,
      "id": "1b9ba911",
      "metadata": {
        "id": "1b9ba911"
      },
      "outputs": [],
      "source": [
        "synthetic_data_generator = create_openai_data_generator(\n",
        "    output_schema=FirstApartmentPurchase,\n",
        "    llm=ChatOpenAI(\n",
        "        model=\"gpt-3.5-turbo\",\n",
        "        temperature=0.7\n",
        "    ),\n",
        "    prompt=prompt_template,\n",
        ")"
      ]
    },
    {
      "cell_type": "code",
      "execution_count": 37,
      "id": "a424c890",
      "metadata": {
        "id": "a424c890"
      },
      "outputs": [],
      "source": [
        "synthetic_results = synthetic_data_generator.generate(\n",
        "    subject=\"FirstApartmentPurchase\",\n",
        "    extra=\"the name must be chosen at random. Make it something you wouldn't normally choose.\",\n",
        "    runs=1000,\n",
        ")"
      ]
    },
    {
      "cell_type": "code",
      "source": [
        "print(synthetic_results)"
      ],
      "metadata": {
        "id": "QW9bAB4kq2yu"
      },
      "id": "QW9bAB4kq2yu",
      "execution_count": null,
      "outputs": []
    },
    {
      "cell_type": "code",
      "source": [
        "import pandas as pd\n",
        "\n",
        "# Supondo que os resultados sintéticos estejam em um formato de lista de dicionários\n",
        "# onde cada dicionário representa um registro médico faturado\n",
        "# Por exemplo:\n",
        "# synthetic_results = [\n",
        "#     {\"patient_name\": \"John Doe\", \"amount_billed\": 100.0, ...},\n",
        "#     {\"patient_name\": \"Jane Smith\", \"amount_billed\": 150.0, ...},\n",
        "#     ...\n",
        "# ]\n",
        "\n",
        "# Convertendo os resultados sintéticos em um DataFrame do pandas\n",
        "df = pd.DataFrame(synthetic_results)\n",
        "\n",
        "# Especificando o caminho onde você deseja salvar o arquivo CSV\n",
        "csv_file_path = \"synthetic_FirstApartmentPurchase_records.csv\"\n",
        "\n",
        "# Salvando o DataFrame como um arquivo CSV\n",
        "df.to_csv(csv_file_path, index=False)\n",
        "\n",
        "print(\"Arquivo CSV salvo com sucesso:\", csv_file_path)\n"
      ],
      "metadata": {
        "id": "yw661DEEthxr",
        "outputId": "d704b2b8-7cf1-4b7c-a789-1f00d1431c3f",
        "colab": {
          "base_uri": "https://localhost:8080/"
        }
      },
      "id": "yw661DEEthxr",
      "execution_count": 38,
      "outputs": [
        {
          "output_type": "stream",
          "name": "stdout",
          "text": [
            "Arquivo CSV salvo com sucesso: synthetic_FirstApartmentPurchase_records.csv\n"
          ]
        }
      ]
    },
    {
      "cell_type": "code",
      "source": [
        "from google.colab import files\n",
        "\n",
        "# Salvando o DataFrame como um arquivo CSV\n",
        "df.to_csv(csv_file_path, index=False)\n",
        "\n",
        "# Baixando o arquivo CSV\n",
        "files.download(csv_file_path)\n"
      ],
      "metadata": {
        "id": "0QB8G6X6zg1J",
        "outputId": "1b889bf8-c71f-4800-f29a-cb6a49216692",
        "colab": {
          "base_uri": "https://localhost:8080/",
          "height": 17
        }
      },
      "id": "0QB8G6X6zg1J",
      "execution_count": 40,
      "outputs": [
        {
          "output_type": "display_data",
          "data": {
            "text/plain": [
              "<IPython.core.display.Javascript object>"
            ],
            "application/javascript": [
              "\n",
              "    async function download(id, filename, size) {\n",
              "      if (!google.colab.kernel.accessAllowed) {\n",
              "        return;\n",
              "      }\n",
              "      const div = document.createElement('div');\n",
              "      const label = document.createElement('label');\n",
              "      label.textContent = `Downloading \"${filename}\": `;\n",
              "      div.appendChild(label);\n",
              "      const progress = document.createElement('progress');\n",
              "      progress.max = size;\n",
              "      div.appendChild(progress);\n",
              "      document.body.appendChild(div);\n",
              "\n",
              "      const buffers = [];\n",
              "      let downloaded = 0;\n",
              "\n",
              "      const channel = await google.colab.kernel.comms.open(id);\n",
              "      // Send a message to notify the kernel that we're ready.\n",
              "      channel.send({})\n",
              "\n",
              "      for await (const message of channel.messages) {\n",
              "        // Send a message to notify the kernel that we're ready.\n",
              "        channel.send({})\n",
              "        if (message.buffers) {\n",
              "          for (const buffer of message.buffers) {\n",
              "            buffers.push(buffer);\n",
              "            downloaded += buffer.byteLength;\n",
              "            progress.value = downloaded;\n",
              "          }\n",
              "        }\n",
              "      }\n",
              "      const blob = new Blob(buffers, {type: 'application/binary'});\n",
              "      const a = document.createElement('a');\n",
              "      a.href = window.URL.createObjectURL(blob);\n",
              "      a.download = filename;\n",
              "      div.appendChild(a);\n",
              "      a.click();\n",
              "      div.remove();\n",
              "    }\n",
              "  "
            ]
          },
          "metadata": {}
        },
        {
          "output_type": "display_data",
          "data": {
            "text/plain": [
              "<IPython.core.display.Javascript object>"
            ],
            "application/javascript": [
              "download(\"download_8395772d-9fd2-4db4-8189-d97d94882d86\", \"synthetic_FirstApartmentPurchase_records.csv\", 289071)"
            ]
          },
          "metadata": {}
        }
      ]
    }
  ],
  "metadata": {
    "kernelspec": {
      "display_name": "Python 3",
      "name": "python3"
    },
    "language_info": {
      "codemirror_mode": {
        "name": "ipython",
        "version": 3
      },
      "file_extension": ".py",
      "mimetype": "text/x-python",
      "name": "python",
      "nbconvert_exporter": "python",
      "pygments_lexer": "ipython3",
      "version": "3.9.1"
    },
    "colab": {
      "provenance": [],
      "gpuType": "V28"
    },
    "accelerator": "TPU"
  },
  "nbformat": 4,
  "nbformat_minor": 5
}
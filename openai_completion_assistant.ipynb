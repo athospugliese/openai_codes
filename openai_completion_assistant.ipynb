{
  "nbformat": 4,
  "nbformat_minor": 0,
  "metadata": {
    "colab": {
      "provenance": [],
      "gpuType": "T4",
      "authorship_tag": "ABX9TyMVltqZylmV6CFf+ztYHUBU",
      "include_colab_link": true
    },
    "kernelspec": {
      "name": "python3",
      "display_name": "Python 3"
    },
    "language_info": {
      "name": "python"
    },
    "accelerator": "GPU"
  },
  "cells": [
    {
      "cell_type": "markdown",
      "metadata": {
        "id": "view-in-github",
        "colab_type": "text"
      },
      "source": [
        "<a href=\"https://colab.research.google.com/github/athospugliesedev/openai_codes/blob/main/openai_completion_assistant.ipynb\" target=\"_parent\"><img src=\"https://colab.research.google.com/assets/colab-badge.svg\" alt=\"Open In Colab\"/></a>"
      ]
    },
    {
      "cell_type": "code",
      "source": [
        "pip install openai"
      ],
      "metadata": {
        "colab": {
          "base_uri": "https://localhost:8080/"
        },
        "id": "gioEV1aaesAe",
        "outputId": "a77d669c-98e0-451b-ecde-15263363ccc4"
      },
      "execution_count": 10,
      "outputs": [
        {
          "output_type": "stream",
          "name": "stdout",
          "text": [
            "Requirement already satisfied: openai in /usr/local/lib/python3.10/dist-packages (1.19.0)\n",
            "Requirement already satisfied: anyio<5,>=3.5.0 in /usr/local/lib/python3.10/dist-packages (from openai) (3.7.1)\n",
            "Requirement already satisfied: distro<2,>=1.7.0 in /usr/lib/python3/dist-packages (from openai) (1.7.0)\n",
            "Requirement already satisfied: httpx<1,>=0.23.0 in /usr/local/lib/python3.10/dist-packages (from openai) (0.27.0)\n",
            "Requirement already satisfied: pydantic<3,>=1.9.0 in /usr/local/lib/python3.10/dist-packages (from openai) (2.6.4)\n",
            "Requirement already satisfied: sniffio in /usr/local/lib/python3.10/dist-packages (from openai) (1.3.1)\n",
            "Requirement already satisfied: tqdm>4 in /usr/local/lib/python3.10/dist-packages (from openai) (4.66.2)\n",
            "Requirement already satisfied: typing-extensions<5,>=4.7 in /usr/local/lib/python3.10/dist-packages (from openai) (4.11.0)\n",
            "Requirement already satisfied: idna>=2.8 in /usr/local/lib/python3.10/dist-packages (from anyio<5,>=3.5.0->openai) (3.6)\n",
            "Requirement already satisfied: exceptiongroup in /usr/local/lib/python3.10/dist-packages (from anyio<5,>=3.5.0->openai) (1.2.0)\n",
            "Requirement already satisfied: certifi in /usr/local/lib/python3.10/dist-packages (from httpx<1,>=0.23.0->openai) (2024.2.2)\n",
            "Requirement already satisfied: httpcore==1.* in /usr/local/lib/python3.10/dist-packages (from httpx<1,>=0.23.0->openai) (1.0.5)\n",
            "Requirement already satisfied: h11<0.15,>=0.13 in /usr/local/lib/python3.10/dist-packages (from httpcore==1.*->httpx<1,>=0.23.0->openai) (0.14.0)\n",
            "Requirement already satisfied: annotated-types>=0.4.0 in /usr/local/lib/python3.10/dist-packages (from pydantic<3,>=1.9.0->openai) (0.6.0)\n",
            "Requirement already satisfied: pydantic-core==2.16.3 in /usr/local/lib/python3.10/dist-packages (from pydantic<3,>=1.9.0->openai) (2.16.3)\n"
          ]
        }
      ]
    },
    {
      "cell_type": "code",
      "source": [
        "import os\n",
        "os.environ[\"OPENAI_API_KEY\"] = \"\""
      ],
      "metadata": {
        "id": "WvrJbCZ5fXtV"
      },
      "execution_count": 11,
      "outputs": []
    },
    {
      "cell_type": "code",
      "source": [
        "from openai import OpenAI, AssistantEventHandler\n",
        "from typing_extensions import override\n",
        "\n",
        "# Inicializa o cliente OpenAI\n",
        "client = OpenAI()\n",
        "\n",
        "# Solicita ao usuário que insira o código em R\n",
        "r_code = input(\"Digite o código em R: \")\n",
        "\n",
        "# Define o conteúdo da mensagem do usuário com base no código em R inserido\n",
        "user_message_content = f\"\"\"Convert the R code in the following markdown code block into Python. Pay particular attention to style, and try to use imports correctly. Render all output code between \"```python\" markdown code blocks:\n",
        "\n",
        "```R\n",
        "\n",
        "{r_code}\n",
        "\n",
        "```\"\"\"\n",
        "\n",
        "# Cria a mensagem do usuário\n",
        "user_message = {\"role\": \"user\", \"content\": user_message_content}\n",
        "\n",
        "# Adiciona a mensagem do usuário à lista de mensagens\n",
        "messages = [\n",
        "    {\"role\": \"system\", \"content\": \"You are a highly experienced developer working on convert Data Science project, an project that helps translate the default code in R to Python. It has two versions: R, Python and PySpark. You are well-versed in both languages, and help keep both versions in sync.\"},\n",
        "    user_message\n",
        "]\n",
        "\n",
        "# Cria a conclusão com as mensagens atualizadas\n",
        "completion = client.chat.completions.create(\n",
        "    model=\"gpt-3.5-turbo\",\n",
        "    messages=messages\n",
        ")\n",
        "\n",
        "# Imprime a resposta gerada pelo ChatGPT\n",
        "print(completion.choices[0].message.content)\n",
        "\n",
        "python_code = completion.choices[0].message.content\n",
        "\n",
        "# Cria um assistente com base nas instruções fornecidas\n",
        "my_assistant = client.beta.assistants.create(\n",
        "    instructions=\"You are a personal python tutor. When asked a question, you change the default values and run the code to answer the question.\",\n",
        "    name=\"Python Tutor\",\n",
        "    tools=[{\"type\": \"code_interpreter\"}],\n",
        "    model=\"gpt-4\",\n",
        ")\n",
        "\n",
        "# Inicializa o ID do assistente criado\n",
        "assistant_id = my_assistant.id\n",
        "\n",
        "# Define o ID do thread\n",
        "thread = client.beta.threads.create()\n",
        "\n",
        "# Cria uma mensagem com o conteúdo gerado pelo modelo anterior\n",
        "message_content = completion.choices[0].message.content\n",
        "message = client.beta.threads.messages.create(\n",
        "    thread_id=thread.id,\n",
        "    role=\"user\",\n",
        "    content=message_content\n",
        ")\n",
        "\n",
        "# Define um manipulador de eventos personalizado para o assistente\n",
        "class EventHandler(AssistantEventHandler):\n",
        "    @override\n",
        "    def on_text_created(self, text) -> None:\n",
        "        print(f\"\\nassistant > \", end=\"\", flush=True)\n",
        "\n",
        "    @override\n",
        "    def on_text_delta(self, delta, snapshot):\n",
        "        print(delta.value, end=\"\", flush=True)\n",
        "\n",
        "    def on_tool_call_created(self, tool_call):\n",
        "        print(f\"\\nassistant > {tool_call.type}\\n\", flush=True)\n",
        "\n",
        "    def on_tool_call_delta(self, delta, snapshot):\n",
        "        if delta.type == 'code_interpreter':\n",
        "            if delta.code_interpreter.input:\n",
        "                print(delta.code_interpreter.input, end=\"\", flush=True)\n",
        "            if delta.code_interpreter.outputs:\n",
        "                print(f\"\\n\\noutput >\", flush=True)\n",
        "                for output in delta.code_interpreter.outputs:\n",
        "                    if output.type == \"logs\":\n",
        "                        print(f\"\\n{output.logs}\", flush=True)\n",
        "\n",
        "# Cria o manipulador de eventos\n",
        "event_handler = EventHandler()\n",
        "\n",
        "# Inicia o stream de execução do assistente\n",
        "instructions = f\"Change the default values from the dataframe, and do python tests and print the test and the result. {python_code}\"\n",
        "with client.beta.threads.runs.stream(\n",
        "    thread_id=thread.id,\n",
        "    assistant_id=assistant_id,\n",
        "    instructions=instructions,\n",
        "    event_handler=event_handler,\n",
        ") as stream:\n",
        "    stream.until_done()\n"
      ],
      "metadata": {
        "id": "sl66AflNl2Dq",
        "colab": {
          "base_uri": "https://localhost:8080/"
        },
        "outputId": "d75f0165-d212-44d4-da4e-5a7fc422dfdc"
      },
      "execution_count": 12,
      "outputs": [
        {
          "output_type": "stream",
          "name": "stdout",
          "text": [
            "Digite o código em R: # Instale e carregue o pacote 'httr' para fazer solicitações HTTP install.packages(\"httr\") library(httr)  # Dados de exemplo em R dados <- data.frame(   x = c(1, 2, 3, 4, 5),   y = c(10, 20, 30, 40, 50) )  # Converta os dados para JSON dados_json <- toJSON(dados)  # URL da API do AIMMS onde você deseja enviar os dados url <- \"http://exemplo.com/api/receber_dados\"  # Faça uma solicitação POST para enviar os dados para o AIMMS resposta <- POST(url, body = dados_json, encode = \"json\")  # Verifique o status da resposta if (http_status(resposta)$status == 200) {   print(\"Dados enviados com sucesso para o AIMMS.\") } else {   print(\"Erro ao enviar dados para o AIMMS.\") }\n",
            "```python\n",
            "import requests\n",
            "import json\n",
            "\n",
            "# Dados de exemplo em Python\n",
            "dados = {\n",
            "    'x': [1, 2, 3, 4, 5],\n",
            "    'y': [10, 20, 30, 40, 50]\n",
            "}\n",
            "\n",
            "# Converta os dados para JSON\n",
            "dados_json = json.dumps(dados)\n",
            "\n",
            "# URL da API do AIMMS onde você deseja enviar os dados\n",
            "url = \"http://exemplo.com/api/receber_dados\"\n",
            "\n",
            "# Faça uma solicitação POST para enviar os dados para o AIMMS\n",
            "resposta = requests.post(url, json=dados)\n",
            "\n",
            "# Verifique o status da resposta\n",
            "if resposta.status_code == 200:\n",
            "    print(\"Dados enviados com sucesso para o AIMMS.\")\n",
            "else:\n",
            "    print(\"Erro ao enviar dados para o AIMMS.\")\n",
            "```\n",
            "\n",
            "assistant > I'm sorry for the inconvenience. The current environment doesn't have internet access, so I'm unable to make requests to an external API. However, I can help you write a function and unit test for that function without actually making the HTTP request. \n",
            "\n",
            "The provided Python script contains a simple `requests.post` call, and without running this script we can't verify if it works as expected. However, we can assume that the script sends a POST request to the specified URL with JSON data. \n",
            "\n",
            "If you want to add a function and write a unit test for it, we can do it like this:\n",
            "\n",
            "```python\n",
            "import requests\n",
            "import json\n",
            "import unittest\n",
            " \n",
            "def send_data_to_aimms(data):\n",
            "    # Converta os dados para JSON\n",
            "    data_json = json.dumps(data)\n",
            "    \n",
            "    # URL da API do AIMMS onde você deseja enviar os dados\n",
            "    url = \"http://exemplo.com/api/receber_dados\"\n",
            "    \n",
            "    # Faça uma solicitação POST para enviar os dados para o AIMMS\n",
            "    resposta = requests.post(url, json=data)\n",
            "    \n",
            "    # Verifique o status da resposta\n",
            "    if resposta.status_code == 200:\n",
            "        return True\n",
            "    else:\n",
            "        return False\n",
            "        \n",
            "class TestAIMMS(unittest.TestCase):\n",
            "    def test_send_data_to_aimms(self):\n",
            "        data = {\n",
            "            'x': [1, 2, 3, 4, 5],\n",
            "            'y': [10, 20, 30, 40, 50]\n",
            "        }\n",
            "        self.assertEqual(send_data_to_aimms(data), True)\n",
            "\n",
            "# Run the unit test\n",
            "if __name__ == '__main__':\n",
            "    unittest.main()\n",
            "```\n",
            "In the `send_data_to_aimms` function, we're doing exactly the same as in the provided Python script – we're sending a POST request to an API with some data. In this case, we return `True` if the status code is `200` and `False` otherwise. \n",
            "\n",
            "We then use the built-in `unittest` module in Python to write a unit test for our function. The `test_send_data_to_aimms` function in the `TestAIMMS` class is our actual test. It sends a dictionary of some data to the `send_data_to_aimms` function and checks if the result is `True` using the `assertEqual` function.\n",
            "\n",
            "You can adapt these tests as your needs, but for this specific case, since we cannot make external requests, you can refactor your code to better fit the testing scenario or test it on your local machine."
          ]
        }
      ]
    }
  ]
}